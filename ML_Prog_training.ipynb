{
  "nbformat": 4,
  "nbformat_minor": 0,
  "metadata": {
    "colab": {
      "provenance": [],
      "include_colab_link": true
    },
    "kernelspec": {
      "display_name": "Python 3",
      "name": "python3"
    }
  },
  "cells": [
    {
      "cell_type": "markdown",
      "metadata": {
        "id": "view-in-github",
        "colab_type": "text"
      },
      "source": [
        "<a href=\"https://colab.research.google.com/github/Jeff-Israel/IGCSE/blob/main/ML_Prog_training.ipynb\" target=\"_parent\"><img src=\"https://colab.research.google.com/assets/colab-badge.svg\" alt=\"Open In Colab\"/></a>"
      ]
    },
    {
      "cell_type": "markdown",
      "metadata": {
        "id": "5fCEDCU_qrC0"
      },
      "source": [
        "<p><img alt=\"Colaboratory logo\" height=\"45px\" src=\"/img/colab_favicon.ico\" align=\"left\" hspace=\"10px\" vspace=\"0px\"></p>\n",
        "\n",
        "<h1>What is Colaboratory?</h1>\n",
        "\n",
        "Colaboratory, or \"Colab\" for short, allows you to write and execute Python in your browser, with\n",
        "- Zero configuration required\n",
        "- Free access to GPUs\n",
        "- Easy sharing\n",
        "\n",
        "Whether you're a **student**, a **data scientist** or an **AI researcher**, Colab can make your work easier. Watch [Introduction to Colab](https://www.youtube.com/watch?v=inN8seMm7UI) to learn more, or just get started below!"
      ]
    },
    {
      "cell_type": "markdown",
      "metadata": {
        "id": "GJBs_flRovLc"
      },
      "source": [
        "## **Getting started**\n",
        "\n",
        "The document you are reading is not a static web page, but an interactive environment called a **Colab notebook** that lets you write and execute code.\n",
        "\n",
        "For example, here is a **code cell** with a short Python script that computes a value, stores it in a variable, and prints the result:"
      ]
    },
    {
      "cell_type": "code",
      "metadata": {
        "colab": {
          "base_uri": "https://localhost:8080/",
          "height": 34
        },
        "id": "gJr_9dXGpJ05",
        "outputId": "9f556d03-ec67-4950-a485-cfdba9ddd14d"
      },
      "source": [
        "seconds_in_a_day = 24 * 60 * 60\n",
        "seconds_in_a_day"
      ],
      "execution_count": null,
      "outputs": [
        {
          "data": {
            "text/plain": [
              "86400"
            ]
          },
          "execution_count": 0,
          "metadata": {
            "tags": []
          },
          "output_type": "execute_result"
        }
      ]
    },
    {
      "cell_type": "markdown",
      "metadata": {
        "id": "2fhs6GZ4qFMx"
      },
      "source": [
        "To execute the code in the above cell, select it with a click and then either press the play button to the left of the code, or use the keyboard shortcut \"Command/Ctrl+Enter\". To edit the code, just click the cell and start editing.\n",
        "\n",
        "Variables that you define in one cell can later be used in other cells:"
      ]
    },
    {
      "cell_type": "code",
      "metadata": {
        "colab": {
          "base_uri": "https://localhost:8080/",
          "height": 34
        },
        "id": "-gE-Ez1qtyIA",
        "outputId": "94cb2224-0edf-457b-90b5-0ac3488d8a97"
      },
      "source": [
        "seconds_in_a_week = 7 * seconds_in_a_day\n",
        "seconds_in_a_week"
      ],
      "execution_count": null,
      "outputs": [
        {
          "data": {
            "text/plain": [
              "604800"
            ]
          },
          "execution_count": 0,
          "metadata": {
            "tags": []
          },
          "output_type": "execute_result"
        }
      ]
    },
    {
      "cell_type": "markdown",
      "metadata": {
        "id": "lSrWNr3MuFUS"
      },
      "source": [
        "Colab notebooks allow you to combine **executable code** and **rich text** in a single document, along with **images**, **HTML**, **LaTeX** and more. When you create your own Colab notebooks, they are stored in your Google Drive account. You can easily share your Colab notebooks with co-workers or friends, allowing them to comment on your notebooks or even edit them. To learn more, see [Overview of Colab](/notebooks/basic_features_overview.ipynb). To create a new Colab notebook you can use the File menu above, or use the following link: [create a new Colab notebook](http://colab.research.google.com#create=true).\n",
        "\n",
        "Colab notebooks are Jupyter notebooks that are hosted by Colab. To learn more about the Jupyter project, see [jupyter.org](https://www.jupyter.org)."
      ]
    },
    {
      "cell_type": "markdown",
      "metadata": {
        "id": "UdRyKR44dcNI"
      },
      "source": [
        "## Data science\n",
        "\n",
        "With Colab you can harness the full power of popular Python libraries to analyze and visualize data. The code cell below uses **numpy** to generate some random data, and uses **matplotlib** to visualize it. To edit the code, just click the cell and start editing."
      ]
    },
    {
      "cell_type": "code",
      "metadata": {
        "colab": {
          "base_uri": "https://localhost:8080/",
          "height": 281
        },
        "id": "C4HZx7Gndbrh",
        "outputId": "0d2b726d-d2fc-408f-f57f-5f8a9fddc4f3"
      },
      "source": [
        "import numpy as np\n",
        "from matplotlib import pyplot as plt\n",
        "\n",
        "ys = 200 + np.random.randn(100)\n",
        "x = [x for x in range(len(ys))]\n",
        "\n",
        "plt.plot(x, ys, '-')\n",
        "plt.fill_between(x, ys, 195, where=(ys > 195), facecolor='r', alpha=0.6)\n",
        "\n",
        "plt.title(\"Sample Visualization\")\n",
        "plt.show()"
      ],
      "execution_count": null,
      "outputs": [
        {
          "output_type": "display_data",
          "data": {
            "image/png": "[encoded data removed]",
            "text/plain": [
              "<Figure size 432x288 with 1 Axes>"
            ]
          },
          "metadata": {
            "needs_background": "light"
          }
        }
      ]
    },
    {
      "cell_type": "code",
      "metadata": {
        "id": "lI9qOzq967Xn"
      },
      "source": [],
      "execution_count": null,
      "outputs": []
    },
    {
      "cell_type": "markdown",
      "metadata": {
        "id": "4_kCnsPUqS6o"
      },
      "source": [
        "You can import your own data into Colab notebooks from your Google Drive account, including from spreadsheets, as well as from Github and many other sources. To learn more about importing data, and how Colab can be used for data science, see the links below under [Working with Data](#working-with-data)."
      ]
    },
    {
      "cell_type": "markdown",
      "metadata": {
        "id": "OwuxHmxllTwN"
      },
      "source": [
        "## Machine learning\n",
        "\n",
        "With Colab you can import an image dataset, train an image classifier on it, and evaluate the model, all in just [a few lines of code](https://colab.research.google.com/github/tensorflow/docs/blob/master/site/en/tutorials/quickstart/beginner.ipynb). Colab notebooks execute code on Google's cloud servers, meaning you can leverage the power of Google hardware, including [GPUs and TPUs](#using-accelerated-hardware), regardless of the power of your machine. All you need is a browser."
      ]
    },
    {
      "cell_type": "markdown",
      "metadata": {
        "id": "ufxBm1yRnruN"
      },
      "source": [
        "Colab is used extensively in the machine learning community with applications including:\n",
        "- Getting started with TensorFlow\n",
        "- Developing and training neural networks\n",
        "- Experimenting with TPUs\n",
        "- Disseminating AI research\n",
        "- Creating tutorials\n",
        "\n",
        "To see sample Colab notebooks that demonstrate machine learning applications, see the [machine learning examples](#machine-learning-examples) below."
      ]
    },
    {
      "cell_type": "markdown",
      "metadata": {
        "id": "-Rh3-Vt9Nev9"
      },
      "source": [
        "## More Resources\n",
        "\n",
        "### Working with Notebooks in Colab\n",
        "- [Overview of Colaboratory](/notebooks/basic_features_overview.ipynb)\n",
        "- [Guide to Markdown](/notebooks/markdown_guide.ipynb)\n",
        "- [Importing libraries and installing dependencies](/notebooks/snippets/importing_libraries.ipynb)\n",
        "- [Saving and loading notebooks in GitHub](https://colab.research.google.com/github/googlecolab/colabtools/blob/master/notebooks/colab-github-demo.ipynb)\n",
        "- [Interactive forms](/notebooks/forms.ipynb)\n",
        "- [Interactive widgets](/notebooks/widgets.ipynb)\n",
        "- <img src=\"/img/new.png\" height=\"20px\" align=\"left\" hspace=\"4px\" alt=\"New\"></img>\n",
        " [TensorFlow 2 in Colab](/notebooks/tensorflow_version.ipynb)\n",
        "\n",
        "<a name=\"working-with-data\"></a>\n",
        "### Working with Data\n",
        "- [Loading data: Drive, Sheets, and Google Cloud Storage](/notebooks/io.ipynb)\n",
        "- [Charts: visualizing data](/notebooks/charts.ipynb)\n",
        "- [Getting started with BigQuery](/notebooks/bigquery.ipynb)\n",
        "\n",
        "### Machine Learning Crash Course\n",
        "These are a few of the notebooks from Google's online Machine Learning course. See the [full course website](https://developers.google.com/machine-learning/crash-course/) for more.\n",
        "- [Intro to Pandas](/notebooks/mlcc/intro_to_pandas.ipynb)\n",
        "- [Tensorflow concepts](/notebooks/mlcc/tensorflow_programming_concepts.ipynb)\n",
        "- [First steps with TensorFlow](/notebooks/mlcc/first_steps_with_tensor_flow.ipynb)\n",
        "- [Intro to neural nets](/notebooks/mlcc/intro_to_neural_nets.ipynb)\n",
        "- [Intro to sparse data and embeddings](/notebooks/mlcc/intro_to_sparse_data_and_embeddings.ipynb)\n",
        "\n",
        "<a name=\"using-accelerated-hardware\"></a>\n",
        "### Using Accelerated Hardware\n",
        "- [TensorFlow with GPUs](/notebooks/gpu.ipynb)\n",
        "- [TensorFlow with TPUs](/notebooks/tpu.ipynb)"
      ]
    },
    {
      "cell_type": "markdown",
      "metadata": {
        "id": "P-H6Lw1vyNNd"
      },
      "source": [
        "<a name=\"machine-learning-examples\"></a>\n",
        "\n",
        "## Machine Learning Examples\n",
        "\n",
        "To see end-to-end examples of the interactive machine learning analyses that Colaboratory makes possible, check out these  tutorials using models from [TensorFlow Hub](https://tfhub.dev).\n",
        "\n",
        "A few featured examples:\n",
        "\n",
        "- [Retraining an Image Classifier](https://tensorflow.org/hub/tutorials/tf2_image_retraining): Build a Keras model on top of a pre-trained image classifier to distinguish flowers.\n",
        "- [Text Classification](https://tensorflow.org/hub/tutorials/tf2_text_classification): Classify IMDB movie reviews as either *positive* or *negative*.\n",
        "- [Style Transfer](https://tensorflow.org/hub/tutorials/tf2_arbitrary_image_stylization): Use deep learning to transfer style between images.\n",
        "- [Multilingual Universal Sentence Encoder Q&A](https://tensorflow.org/hub/tutorials/retrieval_with_tf_hub_universal_encoder_qa): Use a machine learning model to answer questions from the SQuAD dataset.\n",
        "- [Video Interpolation](https://tensorflow.org/hub/tutorials/tweening_conv3d): Predict what happened in a video between the first and the last frame.\n"
      ]
    },
    {
      "cell_type": "code",
      "metadata": {
        "colab": {
          "base_uri": "https://localhost:8080/",
          "height": 316
        },
        "id": "Mr6Oug6TR9x7",
        "outputId": "84d3a2f1-7c1f-4487-91af-4625c81b9c4a"
      },
      "source": [
        "from sklearn import tree\n",
        "import numpy as np\n",
        "from matplotlib import pyplot as plt\n",
        "from sklearn.datasets import load_diabetes\n",
        "\n",
        "diabetes = load_diabetes()\n",
        "\n",
        "print(diabetes.feature_names)\n",
        "\n",
        "test_idx = [0, 50, 100]\n",
        "\n",
        "train_target = np.delete(diabetes.target, test_idx)\n",
        "train_data = np.delete(diabetes.data, test_idx, axis=0)\n",
        "\n",
        "test_target = diabetes.target[test_idx]\n",
        "test_data = diabetes.data[test_idx]\n",
        "\n",
        "diabetes_clf = tree.DecisionTreeClassifier()\n",
        "\n",
        "diabetes_clf.fit(train_data, train_target)\n",
        "\n",
        "\n",
        "print(diabetes_clf.predict(test_data))\n",
        "plt.plot(diabetes_clf.predict(test_data))"
      ],
      "execution_count": null,
      "outputs": [
        {
          "output_type": "stream",
          "name": "stdout",
          "text": [
            "['age', 'sex', 'bmi', 'bp', 's1', 's2', 's3', 's4', 's5', 's6']\n",
            "[ 58. 288. 191.]\n"
          ]
        },
        {
          "output_type": "execute_result",
          "data": {
            "text/plain": [
              "[<matplotlib.lines.Line2D at 0x7f66f91e20d0>]"
            ]
          },
          "metadata": {},
          "execution_count": 1
        },
        {
          "output_type": "display_data",
          "data": {
            "image/png": "[encoded data removed]",
            "text/plain": [
              "<Figure size 432x288 with 1 Axes>"
            ]
          },
          "metadata": {
            "needs_background": "light"
          }
        }
      ]
    },
    {
      "cell_type": "code",
      "metadata": {
        "colab": {
          "base_uri": "https://localhost:8080/",
          "height": 299
        },
        "id": "mhrwl-9z684f",
        "outputId": "6917a820-3999-438f-d040-2ce128f725e8"
      },
      "source": [
        "# Dog Plotting... Good feature engineering lesson\n",
        "\n",
        "import numpy as np\n",
        "from matplotlib import pyplot as plt\n",
        "\n",
        "\n",
        "greyhound = 500\n",
        "lab = 500\n",
        "\n",
        "g_h = 28 + 4 * np.random.randn(greyhound)\n",
        "l_h = 24 + 4 * np.random.randn(lab)\n",
        "\n",
        "# Plotting\n",
        "plt.hist([g_h, l_h], stacked=True, color=['r', 'b'])\n",
        "plt.legend(['Greyhound', 'Lab'])\n",
        "plt.show()\n",
        "\n",
        "# Main lesson\n",
        "\n",
        "pass\n",
        "\n",
        "print('What makes a good feature? ')\n",
        "print('Features should be Informative, Independant, & Simple. ')"
      ],
      "execution_count": null,
      "outputs": [
        {
          "data": {
            "image/png": "[encoded data removed]",
            "text/plain": [
              "<Figure size 432x288 with 1 Axes>"
            ]
          },
          "metadata": {
            "tags": []
          },
          "output_type": "display_data"
        },
        {
          "name": "stdout",
          "output_type": "stream",
          "text": [
            "What makes a good feature? \n",
            "Features should be Informative, Independant, & Simple. \n"
          ]
        }
      ]
    },
    {
      "cell_type": "code",
      "metadata": {
        "colab": {
          "base_uri": "https://localhost:8080/"
        },
        "id": "H9uelo3hsFng",
        "outputId": "1b43dc0b-4e58-4f78-9e48-e2d3891f7d5c"
      },
      "source": [
        "from sklearn import tree\n",
        "import random\n",
        "\n",
        "features = [[7, 32, random.randint(1, 2)], [7, 16, 1], [4000, 4, random.uniform(0.002, 2)]]\n",
        "labels = ['Mac mini with Ipad', 'Ipad Pro M1', 'Raspberry Pi']\n",
        "\n",
        "model = tree.DecisionTreeClassifier()\n",
        "\n",
        "model.fit(features, labels)\n",
        "\n",
        "intel_core = int(input(\"Enter the intel core or the equivalent chip in number format: \"))\n",
        "ram = int(input(\"Enter the ram (4gb ram, 8gb ram, etc.) in number format: \"))\n",
        "memory = int(input(\"Enter the storage size (512 gb, 1 tb, etc) in number format: \"))\n",
        "\n",
        "print(str(model.predict([[intel_core, ram, memory]])) + \" is best best option for you...\")"
      ],
      "execution_count": null,
      "outputs": [
        {
          "output_type": "stream",
          "name": "stdout",
          "text": [
            "Enter the intel core or the equivalent chip in number format: 7\n",
            "Enter the ram (4gb ram, 8gb ram, etc.) in number format: 16\n",
            "Enter the storage size (512 gb, 1 tb, etc) in number format: 2\n",
            "['Ipad Pro M1'] is best best option for you...\n"
          ]
        }
      ]
    },
    {
      "cell_type": "code",
      "metadata": {
        "colab": {
          "base_uri": "https://localhost:8080/",
          "height": 299
        },
        "id": "OA4mpSiVfA0w",
        "outputId": "9ae34e99-befc-47cf-bf36-cda0b1c8a183"
      },
      "source": [
        "from sklearn.datasets import load_wine\n",
        "import numpy as np\n",
        "from sklearn import tree\n",
        "from matplotlib import pyplot as plt\n",
        "from sklearn.metrics import accuracy_score\n",
        "\n",
        "wine = load_wine()\n",
        "\n",
        "test_idx = [0, 50, 100]\n",
        "\n",
        "train_target = np.delete(wine.target, test_idx)\n",
        "train_data = np.delete(wine.data, test_idx, axis=0)\n",
        "\n",
        "test_target = wine.target[test_idx]\n",
        "test_data = wine.data[test_idx]\n",
        "\n",
        "clf = tree.DecisionTreeClassifier()\n",
        "\n",
        "clf.fit(train_data, train_target)\n",
        "\n",
        "prediction = clf.predict(test_data)\n",
        "x = [x for x in range(len(prediction))]\n",
        "\n",
        "score = accuracy_score(test_target, prediction)\n",
        "accuracy = math.floor(score*100)\n",
        "print('Accuracy: ' + str(accuracy) + '%')\n",
        "\n",
        "print('The predictions are', str(prediction))\n",
        "plt.plot(prediction)\n",
        "plt.show()"
      ],
      "execution_count": null,
      "outputs": [
        {
          "name": "stdout",
          "output_type": "stream",
          "text": [
            "Accuracy: 100%\n",
            "The predictions are [0 0 1]\n"
          ]
        },
        {
          "data": {
            "image/png": "[encoded data removed]",
            "text/plain": [
              "<Figure size 432x288 with 1 Axes>"
            ]
          },
          "metadata": {
            "tags": []
          },
          "output_type": "display_data"
        }
      ]
    },
    {
      "cell_type": "code",
      "metadata": {
        "colab": {
          "base_uri": "https://localhost:8080/",
          "height": 199
        },
        "id": "EoUWhYJtlgb_",
        "outputId": "95c57bf7-d8e7-4b5d-b911-d4eb0dd050e5"
      },
      "source": [
        "from sklearn import tree\n",
        "import numpy as np\n",
        "from matplotlib import pyplot as plt\n",
        "from sklearn.datasets import load_iris\n",
        "from sklearn.metrics import accuracy_score\n",
        "from sklearn.model_selection import train_test_split as tts\n",
        "import math\n",
        "from sklearn.metrics import mean_absolute_error\n",
        "\n",
        "iris = load_iris()\n",
        "x = iris.data\n",
        "y = iris.target\n",
        "\n",
        "print('Feature Names: ', iris.feature_names)\n",
        "\n",
        "x_train, x_test, y_train, y_test = tts(x, y, test_size=0.5)\n",
        "\n",
        "clf = tree.DecisionTreeClassifier()\n",
        "clf.fit(x_train, y_train)\n",
        "prediction = clf.predict(x_test)\n",
        "z = accuracy_score(y_test, prediction)\n",
        "accuracy = math.floor(z*100)\n",
        "mae = mean_absolute_error(y_test, prediction)\n",
        "\n",
        "print('Predictions: ', str(prediction))\n",
        "print('Target Names: ', iris.target_names)\n",
        "print('Actual Data: ', str(y_test))\n",
        "print('Accuracy:', str(accuracy), '%')\n",
        "print('Mean Absolute Error: ', str(math.floor(mae)))"
      ],
      "execution_count": null,
      "outputs": [
        {
          "name": "stdout",
          "output_type": "stream",
          "text": [
            "Feature Names:  ['sepal length (cm)', 'sepal width (cm)', 'petal length (cm)', 'petal width (cm)']\n",
            "Predictions:  [2 1 0 0 0 0 2 2 0 0 0 2 0 1 2 1 0 0 2 2 0 2 0 1 0 1 1 1 2 1 2 2 0 2 1 0 0\n",
            " 0 0 0 1 0 1 0 2 1 0 2 2 2 1 0 1 2 2 2 1 2 1 1 2 2 0 1 1 0 0 0 2 0 1 1 1 2\n",
            " 1]\n",
            "Target Names:  ['setosa' 'versicolor' 'virginica']\n",
            "Actual Data:  [2 1 0 0 0 0 2 2 0 0 0 2 0 1 2 1 0 0 2 1 0 2 0 1 0 1 1 1 2 1 2 2 0 2 1 0 0\n",
            " 0 0 0 1 0 1 0 2 1 0 2 2 2 1 0 1 2 2 2 1 2 1 1 2 2 0 1 1 0 0 0 2 0 1 2 1 1\n",
            " 1]\n",
            "Accuracy: 96 %\n",
            "Mean Absolute Error:  0\n"
          ]
        }
      ]
    },
    {
      "cell_type": "code",
      "metadata": {
        "colab": {
          "base_uri": "https://localhost:8080/",
          "height": 519
        },
        "id": "HBizD7-fbHsT",
        "outputId": "da8471ef-28c7-47e9-8dca-9b72d246f40d"
      },
      "source": [
        "import numpy as np\n",
        "import matplotlib.pyplot as plt\n",
        "\n",
        "from sklearn.datasets import load_iris\n",
        "from sklearn.tree import DecisionTreeClassifier, plot_tree\n",
        "\n",
        "# Parameters\n",
        "n_classes = 3\n",
        "plot_colors = \"ryb\"\n",
        "plot_step = 0.02\n",
        "\n",
        "# Load data\n",
        "iris = load_iris()\n",
        "\n",
        "for pairidx, pair in enumerate([[0, 1], [0, 2], [0, 3], [1, 2], [1, 3], [2, 3]]):\n",
        "    # We only take the two corresponding features\n",
        "    X = iris.data[:, pair]\n",
        "    y = iris.target\n",
        "\n",
        "    # Train\n",
        "    clf = DecisionTreeClassifier().fit(X, y)\n",
        "\n",
        "    # Plot the decision boundary\n",
        "    plt.subplot(2, 3, pairidx + 1)\n",
        "\n",
        "    x_min, x_max = X[:, 0].min() - 1, X[:, 0].max() + 1\n",
        "    y_min, y_max = X[:, 1].min() - 1, X[:, 1].max() + 1\n",
        "    xx, yy = np.meshgrid(\n",
        "        np.arange(x_min, x_max, plot_step), np.arange(y_min, y_max, plot_step)\n",
        "    )\n",
        "    plt.tight_layout(h_pad=0.5, w_pad=0.5, pad=2.5)\n",
        "\n",
        "    Z = clf.predict(np.c_[xx.ravel(), yy.ravel()])\n",
        "    Z = Z.reshape(xx.shape)\n",
        "    cs = plt.contourf(xx, yy, Z, cmap=plt.cm.RdYlBu)\n",
        "\n",
        "    plt.xlabel(iris.feature_names[pair[0]])\n",
        "    plt.ylabel(iris.feature_names[pair[1]])\n",
        "\n",
        "    # Plot the training points\n",
        "    for i, color in zip(range(n_classes), plot_colors):\n",
        "        idx = np.where(y == i)\n",
        "        plt.scatter(\n",
        "            X[idx, 0],\n",
        "            X[idx, 1],\n",
        "            c=color,\n",
        "            label=iris.target_names[i],\n",
        "            cmap=plt.cm.RdYlBu,\n",
        "            edgecolor=\"black\",\n",
        "            s=15,\n",
        "        )\n",
        "\n",
        "plt.suptitle(\"Decision surface of a decision tree using paired features\")\n",
        "plt.legend(loc=\"lower right\", borderpad=0, handletextpad=0)\n",
        "plt.axis(\"tight\")\n",
        "\n",
        "plt.figure()\n",
        "clf = DecisionTreeClassifier().fit(iris.data, iris.target)\n",
        "plot_tree(clf, filled=True)\n",
        "plt.show()"
      ],
      "execution_count": null,
      "outputs": [
        {
          "output_type": "display_data",
          "data": {
            "image/png": "[encoded data removed]",
            "text/plain": [
              "<Figure size 432x288 with 6 Axes>"
            ]
          },
          "metadata": {
            "needs_background": "light"
          }
        },
        {
          "output_type": "display_data",
          "data": {
            "image/png": "[encoded data removed]",
            "text/plain": [
              "<Figure size 432x288 with 1 Axes>"
            ]
          },
          "metadata": {
            "needs_background": "light"
          }
        }
      ]
    },
    {
      "cell_type": "code",
      "metadata": {
        "colab": {
          "base_uri": "https://localhost:8080/"
        },
        "id": "FdysP0I9cyV-",
        "outputId": "20650ef8-4760-4ee5-af1a-6954449fad24"
      },
      "source": [
        "from sklearn.neighbors import (NeighborhoodComponentsAnalysis,KNeighborsClassifier)\n",
        "from sklearn.datasets import load_iris\n",
        "from sklearn.model_selection import train_test_split\n",
        "from sklearn.pipeline import Pipeline\n",
        "X, y = load_iris(return_X_y=True)\n",
        "X_train, X_test, y_train, y_test = train_test_split(X, y,stratify=y, test_size=0.7, random_state=42)\n",
        "nca = NeighborhoodComponentsAnalysis(random_state=42)\n",
        "knn = KNeighborsClassifier(n_neighbors=3)\n",
        "nca_pipe = Pipeline([('nca', nca), ('knn', knn)])\n",
        "nca_pipe.fit(X_train, y_train)\n",
        "print(nca_pipe.score(X_test, y_test))\n"
      ],
      "execution_count": null,
      "outputs": [
        {
          "output_type": "stream",
          "name": "stdout",
          "text": [
            "0.9619047619047619\n"
          ]
        }
      ]
    },
    {
      "cell_type": "code",
      "metadata": {
        "colab": {
          "base_uri": "https://localhost:8080/"
        },
        "id": "T8YxOutfdHG-",
        "outputId": "e8e36400-f5f2-46e5-d1ff-c3c7409b6982"
      },
      "source": [
        "from sklearn.datasets import load_iris\n",
        "from sklearn.model_selection import train_test_split\n",
        "from sklearn.naive_bayes import GaussianNB\n",
        "X, y = load_iris(return_X_y=True)\n",
        "X_train, X_test, y_train, y_test = train_test_split(X, y, test_size=0.5, random_state=0)\n",
        "gnb = GaussianNB()\n",
        "y_pred = gnb.fit(X_train, y_train).predict(X_test)\n",
        "print(\"Number of mislabeled points out of a total %d points : %d\"% (X_test.shape[0], (y_test != y_pred).sum()))\n"
      ],
      "execution_count": null,
      "outputs": [
        {
          "output_type": "stream",
          "name": "stdout",
          "text": [
            "Number of mislabeled points out of a total 75 points : 4\n"
          ]
        }
      ]
    },
    {
      "cell_type": "code",
      "metadata": {
        "colab": {
          "base_uri": "https://localhost:8080/",
          "height": 231
        },
        "id": "ub11c8FQnXi6",
        "outputId": "f9e0d041-344a-4f85-9b16-e3aa00f91734"
      },
      "source": [
        "from sklearn import svm\n",
        "X = [[0, 0], [1, 1]]\n",
        "y = [0, 1]\n",
        "clf = svm.SVC()\n",
        "clf.fit(X, y)\n",
        "SVC()\n",
        "clf.predict([[2., 2.]])\n",
        "array([1])"
      ],
      "execution_count": null,
      "outputs": [
        {
          "output_type": "error",
          "ename": "NameError",
          "evalue": "ignored",
          "traceback": [
            "\u001b[0;31m---------------------------------------------------------------------------\u001b[0m",
            "\u001b[0;31mNameError\u001b[0m                                 Traceback (most recent call last)",
            "\u001b[0;32m<ipython-input-10-7b72bb8ac503>\u001b[0m in \u001b[0;36m<module>\u001b[0;34m()\u001b[0m\n\u001b[1;32m      4\u001b[0m \u001b[0mclf\u001b[0m \u001b[0;34m=\u001b[0m \u001b[0msvm\u001b[0m\u001b[0;34m.\u001b[0m\u001b[0mSVC\u001b[0m\u001b[0;34m(\u001b[0m\u001b[0;34m)\u001b[0m\u001b[0;34m\u001b[0m\u001b[0;34m\u001b[0m\u001b[0m\n\u001b[1;32m      5\u001b[0m \u001b[0mclf\u001b[0m\u001b[0;34m.\u001b[0m\u001b[0mfit\u001b[0m\u001b[0;34m(\u001b[0m\u001b[0mX\u001b[0m\u001b[0;34m,\u001b[0m \u001b[0my\u001b[0m\u001b[0;34m)\u001b[0m\u001b[0;34m\u001b[0m\u001b[0;34m\u001b[0m\u001b[0m\n\u001b[0;32m----> 6\u001b[0;31m \u001b[0mSVC\u001b[0m\u001b[0;34m(\u001b[0m\u001b[0;34m)\u001b[0m\u001b[0;34m\u001b[0m\u001b[0;34m\u001b[0m\u001b[0m\n\u001b[0m\u001b[1;32m      7\u001b[0m \u001b[0mclf\u001b[0m\u001b[0;34m.\u001b[0m\u001b[0mpredict\u001b[0m\u001b[0;34m(\u001b[0m\u001b[0;34m[\u001b[0m\u001b[0;34m[\u001b[0m\u001b[0;36m2.\u001b[0m\u001b[0;34m,\u001b[0m \u001b[0;36m2.\u001b[0m\u001b[0;34m]\u001b[0m\u001b[0;34m]\u001b[0m\u001b[0;34m)\u001b[0m\u001b[0;34m\u001b[0m\u001b[0;34m\u001b[0m\u001b[0m\n\u001b[1;32m      8\u001b[0m \u001b[0marray\u001b[0m\u001b[0;34m(\u001b[0m\u001b[0;34m[\u001b[0m\u001b[0;36m1\u001b[0m\u001b[0;34m]\u001b[0m\u001b[0;34m)\u001b[0m\u001b[0;34m\u001b[0m\u001b[0;34m\u001b[0m\u001b[0m\n",
            "\u001b[0;31mNameError\u001b[0m: name 'SVC' is not defined"
          ]
        }
      ]
    },
    {
      "cell_type": "code",
      "metadata": {
        "colab": {
          "base_uri": "https://localhost:8080/",
          "height": 231
        },
        "id": "GuKGCseOpdNL",
        "outputId": "200eab7e-d81e-490c-dc27-3356d6ea3b07"
      },
      "source": [
        "X = [[0], [1], [2], [3]]\n",
        "Y = [0, 1, 2, 3]\n",
        "clf = svm.SVC(decision_function_shape='ovo')\n",
        "clf.fit(X, Y)\n",
        "SVC(decision_function_shape='ovo')\n",
        "dec = clf.decision_function([[1]])\n",
        "dec.shape[1] # 4 classes: 4*3/2 = 6\n",
        "6\n",
        "clf.decision_function_shape = \"ovr\"\n",
        "dec = clf.decision_function([[1]])\n",
        "dec.shape[1] # 4 classes"
      ],
      "execution_count": null,
      "outputs": [
        {
          "output_type": "error",
          "ename": "NameError",
          "evalue": "ignored",
          "traceback": [
            "\u001b[0;31m---------------------------------------------------------------------------\u001b[0m",
            "\u001b[0;31mNameError\u001b[0m                                 Traceback (most recent call last)",
            "\u001b[0;32m<ipython-input-11-c6b97ca3b033>\u001b[0m in \u001b[0;36m<module>\u001b[0;34m()\u001b[0m\n\u001b[1;32m      3\u001b[0m \u001b[0mclf\u001b[0m \u001b[0;34m=\u001b[0m \u001b[0msvm\u001b[0m\u001b[0;34m.\u001b[0m\u001b[0mSVC\u001b[0m\u001b[0;34m(\u001b[0m\u001b[0mdecision_function_shape\u001b[0m\u001b[0;34m=\u001b[0m\u001b[0;34m'ovo'\u001b[0m\u001b[0;34m)\u001b[0m\u001b[0;34m\u001b[0m\u001b[0;34m\u001b[0m\u001b[0m\n\u001b[1;32m      4\u001b[0m \u001b[0mclf\u001b[0m\u001b[0;34m.\u001b[0m\u001b[0mfit\u001b[0m\u001b[0;34m(\u001b[0m\u001b[0mX\u001b[0m\u001b[0;34m,\u001b[0m \u001b[0mY\u001b[0m\u001b[0;34m)\u001b[0m\u001b[0;34m\u001b[0m\u001b[0;34m\u001b[0m\u001b[0m\n\u001b[0;32m----> 5\u001b[0;31m \u001b[0mSVC\u001b[0m\u001b[0;34m(\u001b[0m\u001b[0mdecision_function_shape\u001b[0m\u001b[0;34m=\u001b[0m\u001b[0;34m'ovo'\u001b[0m\u001b[0;34m)\u001b[0m\u001b[0;34m\u001b[0m\u001b[0;34m\u001b[0m\u001b[0m\n\u001b[0m\u001b[1;32m      6\u001b[0m \u001b[0mdec\u001b[0m \u001b[0;34m=\u001b[0m \u001b[0mclf\u001b[0m\u001b[0;34m.\u001b[0m\u001b[0mdecision_function\u001b[0m\u001b[0;34m(\u001b[0m\u001b[0;34m[\u001b[0m\u001b[0;34m[\u001b[0m\u001b[0;36m1\u001b[0m\u001b[0;34m]\u001b[0m\u001b[0;34m]\u001b[0m\u001b[0;34m)\u001b[0m\u001b[0;34m\u001b[0m\u001b[0;34m\u001b[0m\u001b[0m\n\u001b[1;32m      7\u001b[0m \u001b[0mdec\u001b[0m\u001b[0;34m.\u001b[0m\u001b[0mshape\u001b[0m\u001b[0;34m[\u001b[0m\u001b[0;36m1\u001b[0m\u001b[0;34m]\u001b[0m \u001b[0;31m# 4 classes: 4*3/2 = 6\u001b[0m\u001b[0;34m\u001b[0m\u001b[0;34m\u001b[0m\u001b[0m\n",
            "\u001b[0;31mNameError\u001b[0m: name 'SVC' is not defined"
          ]
        }
      ]
    },
    {
      "cell_type": "code",
      "metadata": {
        "id": "3pCh6nvUqXYq",
        "outputId": "2c2e4a82-7b28-406c-816d-a7031d7fecdb",
        "colab": {
          "base_uri": "https://localhost:8080/",
          "height": 282
        }
      },
      "source": [
        "import matplotlib.pyplot as plt\n",
        "from sklearn import datasets\n",
        "from sklearn import svm\n",
        "#loading the dataset\n",
        "letters = datasets.load_digits()\n",
        "#generating the classifier\n",
        "clf = svm.SVC(gamma=0.001, C=100)\n",
        "#training the classifier\n",
        "X,y = letters.data[:-10], letters.target[:-10]\n",
        "clf.fit(X,y)\n",
        "#predicting the output\n",
        "print(clf.predict(letters.data[:-10]))\n",
        "plt.imshow(letters.images[6], interpolation='nearest')\n",
        "plt.show()"
      ],
      "execution_count": null,
      "outputs": [
        {
          "output_type": "stream",
          "name": "stdout",
          "text": [
            "[0 1 2 ... 5 7 9]\n"
          ]
        },
        {
          "output_type": "display_data",
          "data": {
            "image/png": "[encoded data removed]",
            "text/plain": [
              "<Figure size 432x288 with 1 Axes>"
            ]
          },
          "metadata": {
            "needs_background": "light"
          }
        }
      ]
    },
    {
      "cell_type": "code",
      "metadata": {
        "id": "bhLUmnSNnnlA"
      },
      "source": [
        "from IPython.display import display, Javascript\n",
        "from google.colab.output import eval_js\n",
        "from base64 import b64decode\n",
        "\n",
        "def take_photo(filename='photo.jpg', quality=0.8):\n",
        "  js = Javascript('''\n",
        "    async function takePhoto(quality) {\n",
        "      const div = document.createElement('div');\n",
        "      const capture = document.createElement('button');\n",
        "      capture.textContent = 'Capture';\n",
        "      div.appendChild(capture);\n",
        "\n",
        "      const video = document.createElement('video');\n",
        "      video.style.display = 'block';\n",
        "      const stream = await navigator.mediaDevices.getUserMedia({video: true});\n",
        "\n",
        "      document.body.appendChild(div);\n",
        "      div.appendChild(video);\n",
        "      video.srcObject = stream;\n",
        "      await video.play();\n",
        "\n",
        "      // Resize the output to fit the video element.\n",
        "      google.colab.output.setIframeHeight(document.documentElement.scrollHeight, true);\n",
        "\n",
        "      // Wait for Capture to be clicked.\n",
        "      await new Promise((resolve) => capture.onclick = resolve);\n",
        "\n",
        "      const canvas = document.createElement('canvas');\n",
        "      canvas.width = video.videoWidth;\n",
        "      canvas.height = video.videoHeight;\n",
        "      canvas.getContext('2d').drawImage(video, 0, 0);\n",
        "      stream.getVideoTracks()[0].stop();\n",
        "      div.remove();\n",
        "      return canvas.toDataURL('image/jpeg', quality);\n",
        "    }\n",
        "    ''')\n",
        "  display(js)\n",
        "  data = eval_js('takePhoto({})'.format(quality))\n",
        "  binary = b64decode(data.split(',')[1])\n",
        "  with open(filename, 'wb') as f:\n",
        "    f.write(binary)\n",
        "  return filename"
      ],
      "execution_count": null,
      "outputs": []
    },
    {
      "cell_type": "code",
      "metadata": {
        "colab": {
          "base_uri": "https://localhost:8080/",
          "height": 514
        },
        "id": "0JBUbCCrnnjn",
        "outputId": "6fba6422-7918-40a9-f719-f4a8e8db93b5"
      },
      "source": [
        "from IPython.display import Image\n",
        "try:\n",
        "  filename = take_photo()\n",
        "  print('Saved to {}'.format(filename))\n",
        "\n",
        "  # Show the image which was just taken.\n",
        "  display(Image(filename))\n",
        "except Exception as err:\n",
        "  # Errors will be thrown if the user does not have a webcam or if they do not\n",
        "  # grant the page permission to access it.\n",
        "  print(str(err))"
      ],
      "execution_count": null,
      "outputs": [
        {
          "output_type": "display_data",
          "data": {
            "application/javascript": [
              "\n",
              "    async function takePhoto(quality) {\n",
              "      const div = document.createElement('div');\n",
              "      const capture = document.createElement('button');\n",
              "      capture.textContent = 'Capture';\n",
              "      div.appendChild(capture);\n",
              "\n",
              "      const video = document.createElement('video');\n",
              "      video.style.display = 'block';\n",
              "      const stream = await navigator.mediaDevices.getUserMedia({video: true});\n",
              "\n",
              "      document.body.appendChild(div);\n",
              "      div.appendChild(video);\n",
              "      video.srcObject = stream;\n",
              "      await video.play();\n",
              "\n",
              "      // Resize the output to fit the video element.\n",
              "      google.colab.output.setIframeHeight(document.documentElement.scrollHeight, true);\n",
              "\n",
              "      // Wait for Capture to be clicked.\n",
              "      await new Promise((resolve) => capture.onclick = resolve);\n",
              "\n",
              "      const canvas = document.createElement('canvas');\n",
              "      canvas.width = video.videoWidth;\n",
              "      canvas.height = video.videoHeight;\n",
              "      canvas.getContext('2d').drawImage(video, 0, 0);\n",
              "      stream.getVideoTracks()[0].stop();\n",
              "      div.remove();\n",
              "      return canvas.toDataURL('image/jpeg', quality);\n",
              "    }\n",
              "    "
            ],
            "text/plain": [
              "<IPython.core.display.Javascript object>"
            ]
          },
          "metadata": {}
        },
        {
          "output_type": "stream",
          "name": "stdout",
          "text": [
            "Saved to photo.jpg\n"
          ]
        },
        {
          "output_type": "display_data",
          "data": {
            "image/jpeg": "[encoded data removed]",
            "text/plain": [
              "<IPython.core.display.Image object>"
            ]
          },
          "metadata": {}
        }
      ]
    },
    {
      "cell_type": "code",
      "metadata": {
        "colab": {
          "base_uri": "https://localhost:8080/"
        },
        "id": "eWE-SuwKcaHt",
        "outputId": "d5ee69d1-bf68-45db-d860-29f0999ecc6d"
      },
      "source": [
        "# A simple program for healthy life\n",
        "\n",
        "import math\n",
        "\n",
        "from sklearn import tree\n",
        "import numpy as np\n",
        "import random\n",
        "\n",
        "features = [[9, random.randint(200, 600)], [8, random.randint(300, 400)], [7, random.randint(100, 200)], [6, random.randint(100, 200)]]\n",
        "labels =  [random.randint(100, 300), random.randint(100, 200), random.randint(50, 170), random.randrange(50, 200)]\n",
        "\n",
        "clf = tree.DecisionTreeClassifier()\n",
        "clf.fit(features, labels)\n",
        "\n",
        "insulin = int(input('Type your humalog dose: '))\n",
        "blood_test_res = int(input('Type your current glucose level. '))\n",
        "prediction = clf.predict([[insulin, blood_test_res]])\n",
        "\n",
        "print('Your next blood test result would be', str(prediction), 'approx.')\n",
        "\n",
        "morning_dose = int(input('What is your morning dose? '))\n",
        "afternoon_dose = int(input('What is your afternoon dose? '))\n",
        "evening_dose = int(input('What is your evening dose? '))\n",
        "\n",
        "tdd = morning_dose+afternoon_dose+evening_dose\n",
        "print('You took' ,str(tdd), 'dose of humalog today')\n",
        "\n",
        "icr = 500/tdd\n",
        "isf = 1800/tdd\n",
        "\n",
        "cbg = int(input('Enter your current blood glucose. '))\n",
        "tbg = int(input('Enter your target blood glucose. '))\n",
        "\n",
        "required_dose = (cbg - tbg)/isf\n",
        "\n",
        "icr_ratio = \"1:\" + str(math.floor(icr))\n",
        "print(\"ICR Ratio: \", str(icr_ratio), 'approx. ')\n",
        "print('[ICR Translation] with 1 unit of dosage, you could bring down', str(math.floor(icr)), 'grams of carbs')\n",
        "\n",
        "print('With 1 unit of dosage,', str(math.floor(isf)), 'mg/dl of blood sugar drops')\n",
        "\n",
        "print('You should have', str(math.floor(required_dose)), 'unit(s) of humalog')"
      ],
      "execution_count": null,
      "outputs": [
        {
          "name": "stdout",
          "output_type": "stream",
          "text": [
            "Type your humalog dose: 4\n",
            "Type your current glucose level. 291\n",
            "Your next blood test result would be [97] approx.\n",
            "What is your morning dose? 6\n"
          ]
        }
      ]
    },
    {
      "cell_type": "code",
      "metadata": {
        "id": "1x6Kj4n_iNvu"
      },
      "source": [],
      "execution_count": null,
      "outputs": []
    },
    {
      "cell_type": "markdown",
      "metadata": {
        "id": "ApCyLjvIivDh"
      },
      "source": [
        "# New section"
      ]
    },
    {
      "cell_type": "code",
      "metadata": {
        "id": "-Bs8ji1mnDOV"
      },
      "source": [
        "import math\n",
        "\n",
        "from sklearn import tree\n",
        "import numpy as np\n",
        "import random\n",
        "\n",
        "features = [['inferior'], ['bad'], ['nasty'], []]"
      ],
      "execution_count": null,
      "outputs": []
    },
    {
      "cell_type": "code",
      "metadata": {
        "colab": {
          "base_uri": "https://localhost:8080/",
          "height": 553
        },
        "id": "Bl3nr3cyN30q",
        "outputId": "3302bd99-cd9b-473d-ffd1-c0d56eb78c82"
      },
      "source": [
        "# Pipeline\n",
        "\n",
        "from sklearn.datasets import load_iris\n",
        "from matplotlib import pyplot as plt\n",
        "\n",
        "\n",
        "iris = load_iris()\n",
        "\n",
        "x = iris.data\n",
        "y = iris.target\n",
        "\n",
        "from sklearn.model_selection import train_test_split as tts\n",
        "\n",
        "x_train, x_test, y_train, y_test = tts(x, y, test_size=0.75)\n",
        "\n",
        "from sklearn.neighbors import KNeighborsClassifier\n",
        "stupid_clf = KNeighborsClassifier()\n",
        "\n",
        "stupid_clf.fit(x_train, y_train)\n",
        "\n",
        "predictions = stupid_clf.predict(x_test)\n",
        "\n",
        "print('Prediction: ', str(predictions))\n",
        "\n",
        "plt.plot(predictions)\n",
        "plt.title('Iris Data Prediction')\n",
        "plt.ylabel('0: Setosa  1: Versicolor  2: Virginia ')\n",
        "\n",
        "xs = [xs for xs in range(len(predictions))]\n",
        "plt.fill_between(xs, predictions, color=['g', 'b'], alpha=0.6)\n",
        "\n",
        "\n",
        "from sklearn.metrics import accuracy_score\n",
        "import math\n",
        "from sklearn.metrics import mean_absolute_error\n",
        "\n",
        "score = accuracy_score(y_test, predictions)\n",
        "print('Actual Data: ', str(y_test))\n",
        "plt.plot(score)\n",
        "\n",
        "pass\n",
        "\n",
        "accuracy = math.floor(score*100)\n",
        "print('Prediction:', str(prediction))\n",
        "print('Actual Data:', str(y_test))\n",
        "print('Accuracy: ' + str(accuracy) + '%')\n",
        "print('Target Names: ', str(iris.target_names))\n",
        "\n",
        "# Compliments or comments for the accuracy\n",
        "\n",
        "pass\n",
        "\n",
        "if accuracy < 50:\n",
        "    print('This prediction is almost inaccurate! ')\n",
        "\n",
        "if accuracy > 50 and accuracy < 70:\n",
        "    print('Nice prediction. Try improving it. ')\n",
        "\n",
        "if accuracy > 70:\n",
        "    print('Excellent prediction! Good job!')"
      ],
      "execution_count": null,
      "outputs": [
        {
          "name": "stdout",
          "output_type": "stream",
          "text": [
            "Prediction:  [2 1 0 2 1 2 1 2 2 2 1 1 1 0 1 0 2 1 0 2 0 2 0 1 2 2 0 0 1 0 0 2 1 0 2 2 0\n",
            " 1 2 0 0 1 1 2 0 1 2 0 1 0 2 1 1 1 1 0 1 0 1 0 0 0 2 0 2 0 1 0 2 0 1 2 0 1\n",
            " 2 0 1 1 2 0 2 0 1 2 0 2 2 1 2 1 0 1 1 0 1 0 2 1 1 1 1 1 2 0 0 2 0 1 2 1 1\n",
            " 0 1]\n",
            "Actual Data:  [2 1 0 2 1 2 1 2 2 2 1 1 1 0 1 0 2 1 0 2 0 2 0 1 2 2 0 0 1 0 0 2 1 0 1 2 0\n",
            " 1 2 0 0 2 1 2 0 1 2 0 1 0 2 1 1 1 1 0 1 0 1 0 0 0 2 0 2 0 1 0 2 0 1 2 0 1\n",
            " 1 0 1 1 2 0 2 0 2 2 0 2 2 1 2 1 0 1 1 0 1 0 2 1 1 2 2 1 2 0 0 2 0 1 2 1 1\n",
            " 0 1]\n",
            "Prediction: [200]\n",
            "Actual Data: [2 1 0 2 1 2 1 2 2 2 1 1 1 0 1 0 2 1 0 2 0 2 0 1 2 2 0 0 1 0 0 2 1 0 1 2 0\n",
            " 1 2 0 0 2 1 2 0 1 2 0 1 0 2 1 1 1 1 0 1 0 1 0 0 0 2 0 2 0 1 0 2 0 1 2 0 1\n",
            " 1 0 1 1 2 0 2 0 2 2 0 2 2 1 2 1 0 1 1 0 1 0 2 1 1 2 2 1 2 0 0 2 0 1 2 1 1\n",
            " 0 1]\n",
            "Accuracy: 94%\n",
            "Target Names:  ['setosa' 'versicolor' 'virginica']\n",
            "Excellent prediction! Good job!\n"
          ]
        },
        {
          "data": {
            "image/png": "[encoded data removed]",
            "text/plain": [
              "<Figure size 432x288 with 1 Axes>"
            ]
          },
          "metadata": {
            "tags": []
          },
          "output_type": "display_data"
        }
      ]
    },
    {
      "cell_type": "code",
      "metadata": {
        "colab": {
          "base_uri": "https://localhost:8080/",
          "height": 381
        },
        "id": "BoicwustXpUQ",
        "outputId": "fb2b3950-343f-4610-bd98-91530665cca1"
      },
      "source": [
        "from sklearn.datasets import load_breast_cancer\n",
        "from matplotlib import pyplot as plt\n",
        "from sklearn.neighbors import KNeighborsClassifier\n",
        "import numpy as np\n",
        "from sklearn.model_selection import train_test_split as tts\n",
        "from sklearn.metrics import accuracy_score\n",
        "from sklearn.metrics import mean_absolute_error\n",
        "\n",
        "\n",
        "bc = load_breast_cancer()\n",
        "\n",
        "x = bc.data\n",
        "y = bc.target\n",
        "\n",
        "x_train, x_test, y_train, y_test = tts(x, y, test_size = 0.5)\n",
        "\n",
        "classifier = KNeighborsClassifier()\n",
        "\n",
        "classifier.fit(x_train, y_train)\n",
        "\n",
        "predictions = classifier.predict(x_test)\n",
        "print('Prediction: ', str(predictions))\n",
        "print('Target Names: ', bc.target_names)\n",
        "print('Actual data: ', str(y_test))\n",
        "\n",
        "z = accuracy_score(y_test, predictions)\n",
        "accuracy = math.floor(z*100)\n",
        "\n",
        "print('Mean Absolute Error: ', str(math.floor(mae)))\n",
        "print('Accuracy:', str(accuracy), '%')\n",
        "\n",
        "\n",
        "if accuracy < 50:\n",
        "    print('This prediction is almost inaccurate! ')\n",
        "\n",
        "if accuracy > 50 and accuracy < 70:\n",
        "    print('Nice prediction. Try improving it. ')\n",
        "\n",
        "if accuracy > 70:\n",
        "    print('Excellent prediction! Good job!')\n"
      ],
      "execution_count": null,
      "outputs": [
        {
          "name": "stdout",
          "output_type": "stream",
          "text": [
            "Prediction:  [1 1 1 0 1 0 0 0 1 1 1 0 1 1 1 1 1 1 1 1 0 0 0 0 1 1 0 1 1 1 0 1 1 1 1 1 0\n",
            " 1 1 1 1 1 1 1 1 1 1 1 1 0 1 1 1 1 0 0 0 1 1 1 1 1 1 0 1 0 0 0 1 0 1 0 0 1\n",
            " 1 1 1 0 0 0 1 1 0 1 1 0 1 1 1 1 1 0 1 1 1 0 0 0 1 1 1 1 1 0 1 0 0 0 1 0 0\n",
            " 0 0 0 1 0 1 1 1 0 1 0 1 0 1 0 1 1 1 0 0 1 0 1 1 1 0 1 1 1 1 0 1 1 1 0 1 1\n",
            " 1 1 1 1 0 1 1 1 1 0 1 0 1 1 0 0 1 1 1 0 1 1 1 1 1 1 1 1 1 1 1 1 1 0 1 1 1\n",
            " 0 1 1 1 1 1 0 1 1 0 0 1 0 1 0 1 1 1 1 0 0 0 1 1 0 0 1 1 1 1 0 0 1 0 1 1 1\n",
            " 1 1 0 1 1 0 0 1 0 1 0 0 1 1 0 0 1 0 1 1 1 1 1 1 1 0 0 1 0 1 0 0 0 0 0 0 0\n",
            " 1 1 1 0 1 0 0 0 0 1 0 1 0 1 0 1 0 0 1 1 1 0 1 0 1 1]\n",
            "Target Names:  ['malignant' 'benign']\n",
            "Actual data:  [1 0 0 0 1 1 0 0 1 1 1 0 1 1 1 1 1 1 1 1 0 0 0 0 1 1 0 1 1 1 1 0 1 1 1 1 0\n",
            " 1 1 1 1 1 1 1 1 1 1 1 1 0 1 1 1 1 0 0 0 1 1 1 1 0 1 0 0 0 0 0 1 0 1 0 0 1\n",
            " 1 1 1 0 0 0 1 1 0 1 1 0 1 1 1 1 1 0 1 1 0 0 0 0 1 1 1 1 1 0 1 0 0 0 1 0 0\n",
            " 0 0 0 1 0 1 1 1 1 1 0 1 1 1 0 1 1 1 0 1 1 1 1 1 1 0 0 1 1 1 0 1 0 1 0 1 1\n",
            " 1 1 1 1 0 1 1 1 1 0 0 0 1 1 0 0 1 0 1 0 1 1 1 1 1 1 1 1 1 1 1 1 1 0 1 1 1\n",
            " 0 1 1 1 1 1 0 1 1 0 1 1 0 1 0 1 1 1 1 0 0 0 1 1 0 0 1 1 1 1 0 0 1 0 1 1 1\n",
            " 1 1 0 1 0 0 0 0 0 1 0 0 1 1 0 0 1 0 1 1 1 1 1 1 1 0 0 1 0 1 0 0 0 0 0 0 0\n",
            " 1 1 1 0 1 1 0 0 0 1 0 1 0 1 0 1 0 0 1 1 1 0 1 0 1 1]\n",
            "Mean Absolute Error:  0\n",
            "Accuracy: 92 %\n",
            "Excellent prediction! Good job!\n"
          ]
        }
      ]
    },
    {
      "cell_type": "code",
      "metadata": {
        "colab": {
          "base_uri": "https://localhost:8080/"
        },
        "id": "x4Bq1a_TZrLq",
        "outputId": "e992724a-86b6-47a4-e73b-a40b33629df3"
      },
      "source": [
        "# Models and tools to import\n",
        "\n",
        "from sklearn.model_selection import cross_validate\n",
        "!pip install tensorflow==1.13.2\n",
        "import tensorflow as tf\n",
        "print(tf.__version__)\n",
        "from tensorflow.contrib import learn\n",
        "from sklearn.model_selection import train_test_split\n",
        "from sklearn.metrics import accuracy_score\n",
        "import math\n",
        "\n",
        "pass\n",
        "\n",
        "class DNN_Classifier:\n",
        "\n",
        "    # Shortcut\n",
        "    tf = tf.contrib.learn\n",
        "\n",
        "    # Load dataset\n",
        "    iris = learn.datasets.load_dataset('iris')\n",
        "    x_train, x_test, y_train, y_test = train_test_split(\n",
        "        iris.data, iris.target, test_size=0.25, random_state=42)\n",
        "\n",
        "    # Build a Deep Neural Network Classifier with 40, 50, 60 units respectively\n",
        "    feature_columns = tf.infer_real_valued_columns_from_input(x_train)\n",
        "    classifier = tf.DNNClassifier(feature_columns=feature_columns, hidden_units=[10, 20, 30], n_classes=40)\n",
        "\n",
        "    # Fit and predict\n",
        "    classifier.fit(x_train, y_train, steps=200)\n",
        "    prediction = list(classifier.predict(x_test, as_iterable=True))\n",
        "    score = accuracy_score(y_test, prediction)\n",
        "\n",
        "    pass\n",
        "\n",
        "    print('Prediction: ', str(prediction))\n",
        "    print('Target Names: Setosa(0), Versicolor(1), & Virginia(3)')\n",
        "\n",
        "    accuracy = math.floor(score*100)\n",
        "\n",
        "    print('Accuracy:', str(accuracy), '%')\n",
        "    print('Actual data: ', str(y_test))\n",
        "\n",
        "    # Comments and compliments\n",
        "    if accuracy < 50:\n",
        "      print('This prediction is almost inaccurate! ')\n",
        "\n",
        "    if accuracy > 50 and accuracy < 70:\n",
        "      print('Nice prediction. Try improving it. ')\n",
        "\n",
        "    if accuracy > 70:\n",
        "      print('Excellent prediction! Good job!')\n",
        "\n",
        "\n",
        "pass\n"
      ],
      "execution_count": null,
      "outputs": [
        {
          "name": "stdout",
          "output_type": "stream",
          "text": [
            "Requirement already satisfied: tensorflow==1.13.2 in /usr/local/lib/python3.7/dist-packages (1.13.2)\n",
            "Requirement already satisfied: keras-preprocessing>=1.0.5 in /usr/local/lib/python3.7/dist-packages (from tensorflow==1.13.2) (1.1.2)\n",
            "Requirement already satisfied: six>=1.10.0 in /usr/local/lib/python3.7/dist-packages (from tensorflow==1.13.2) (1.15.0)\n",
            "Requirement already satisfied: wheel>=0.26 in /usr/local/lib/python3.7/dist-packages (from tensorflow==1.13.2) (0.36.2)\n",
            "Requirement already satisfied: termcolor>=1.1.0 in /usr/local/lib/python3.7/dist-packages (from tensorflow==1.13.2) (1.1.0)\n",
            "Requirement already satisfied: tensorflow-estimator<1.14.0rc0,>=1.13.0 in /usr/local/lib/python3.7/dist-packages (from tensorflow==1.13.2) (1.13.0)\n",
            "Requirement already satisfied: tensorboard<1.14.0,>=1.13.0 in /usr/local/lib/python3.7/dist-packages (from tensorflow==1.13.2) (1.13.1)\n",
            "Requirement already satisfied: grpcio>=1.8.6 in /usr/local/lib/python3.7/dist-packages (from tensorflow==1.13.2) (1.34.1)\n",
            "Requirement already satisfied: absl-py>=0.1.6 in /usr/local/lib/python3.7/dist-packages (from tensorflow==1.13.2) (0.12.0)\n",
            "Requirement already satisfied: astor>=0.6.0 in /usr/local/lib/python3.7/dist-packages (from tensorflow==1.13.2) (0.8.1)\n",
            "Requirement already satisfied: keras-applications>=1.0.6 in /usr/local/lib/python3.7/dist-packages (from tensorflow==1.13.2) (1.0.8)\n",
            "Requirement already satisfied: numpy<2.0,>=1.16.0 in /usr/local/lib/python3.7/dist-packages (from tensorflow==1.13.2) (1.19.5)\n",
            "Requirement already satisfied: protobuf>=3.6.1 in /usr/local/lib/python3.7/dist-packages (from tensorflow==1.13.2) (3.12.4)\n",
            "Requirement already satisfied: gast>=0.2.0 in /usr/local/lib/python3.7/dist-packages (from tensorflow==1.13.2) (0.4.0)\n",
            "Requirement already satisfied: mock>=2.0.0 in /usr/local/lib/python3.7/dist-packages (from tensorflow-estimator<1.14.0rc0,>=1.13.0->tensorflow==1.13.2) (4.0.3)\n",
            "Requirement already satisfied: markdown>=2.6.8 in /usr/local/lib/python3.7/dist-packages (from tensorboard<1.14.0,>=1.13.0->tensorflow==1.13.2) (3.3.4)\n",
            "Requirement already satisfied: werkzeug>=0.11.15 in /usr/local/lib/python3.7/dist-packages (from tensorboard<1.14.0,>=1.13.0->tensorflow==1.13.2) (1.0.1)\n",
            "Requirement already satisfied: h5py in /usr/local/lib/python3.7/dist-packages (from keras-applications>=1.0.6->tensorflow==1.13.2) (3.1.0)\n",
            "Requirement already satisfied: setuptools in /usr/local/lib/python3.7/dist-packages (from protobuf>=3.6.1->tensorflow==1.13.2) (56.1.0)\n",
            "Requirement already satisfied: importlib-metadata; python_version < \"3.8\" in /usr/local/lib/python3.7/dist-packages (from markdown>=2.6.8->tensorboard<1.14.0,>=1.13.0->tensorflow==1.13.2) (4.0.1)\n",
            "Requirement already satisfied: cached-property; python_version < \"3.8\" in /usr/local/lib/python3.7/dist-packages (from h5py->keras-applications>=1.0.6->tensorflow==1.13.2) (1.5.2)\n",
            "Requirement already satisfied: typing-extensions>=3.6.4; python_version < \"3.8\" in /usr/local/lib/python3.7/dist-packages (from importlib-metadata; python_version < \"3.8\"->markdown>=2.6.8->tensorboard<1.14.0,>=1.13.0->tensorflow==1.13.2) (3.7.4.3)\n",
            "Requirement already satisfied: zipp>=0.5 in /usr/local/lib/python3.7/dist-packages (from importlib-metadata; python_version < \"3.8\"->markdown>=2.6.8->tensorboard<1.14.0,>=1.13.0->tensorflow==1.13.2) (3.4.1)\n"
          ]
        },
        {
          "name": "stderr",
          "output_type": "stream",
          "text": [
            "/usr/local/lib/python3.7/dist-packages/tensorflow/python/framework/dtypes.py:526: FutureWarning: Passing (type, 1) or '1type' as a synonym of type is deprecated; in a future version of numpy, it will be understood as (type, (1,)) / '(1,)type'.\n",
            "  _np_qint8 = np.dtype([(\"qint8\", np.int8, 1)])\n",
            "/usr/local/lib/python3.7/dist-packages/tensorflow/python/framework/dtypes.py:527: FutureWarning: Passing (type, 1) or '1type' as a synonym of type is deprecated; in a future version of numpy, it will be understood as (type, (1,)) / '(1,)type'.\n",
            "  _np_quint8 = np.dtype([(\"quint8\", np.uint8, 1)])\n",
            "/usr/local/lib/python3.7/dist-packages/tensorflow/python/framework/dtypes.py:528: FutureWarning: Passing (type, 1) or '1type' as a synonym of type is deprecated; in a future version of numpy, it will be understood as (type, (1,)) / '(1,)type'.\n",
            "  _np_qint16 = np.dtype([(\"qint16\", np.int16, 1)])\n",
            "/usr/local/lib/python3.7/dist-packages/tensorflow/python/framework/dtypes.py:529: FutureWarning: Passing (type, 1) or '1type' as a synonym of type is deprecated; in a future version of numpy, it will be understood as (type, (1,)) / '(1,)type'.\n",
            "  _np_quint16 = np.dtype([(\"quint16\", np.uint16, 1)])\n",
            "/usr/local/lib/python3.7/dist-packages/tensorflow/python/framework/dtypes.py:530: FutureWarning: Passing (type, 1) or '1type' as a synonym of type is deprecated; in a future version of numpy, it will be understood as (type, (1,)) / '(1,)type'.\n",
            "  _np_qint32 = np.dtype([(\"qint32\", np.int32, 1)])\n",
            "/usr/local/lib/python3.7/dist-packages/tensorflow/python/framework/dtypes.py:535: FutureWarning: Passing (type, 1) or '1type' as a synonym of type is deprecated; in a future version of numpy, it will be understood as (type, (1,)) / '(1,)type'.\n",
            "  np_resource = np.dtype([(\"resource\", np.ubyte, 1)])\n"
          ]
        },
        {
          "name": "stdout",
          "output_type": "stream",
          "text": [
            "1.13.2\n",
            "WARNING:tensorflow:From <ipython-input-1-cd7c8dbb7d2d>:20: load_dataset (from tensorflow.contrib.learn.python.learn.datasets) is deprecated and will be removed in a future version.\n",
            "Instructions for updating:\n",
            "Please use tf.data.\n",
            "WARNING:tensorflow:From /usr/local/lib/python3.7/dist-packages/tensorflow/contrib/learn/python/learn/datasets/__init__.py:80: load_iris (from tensorflow.contrib.learn.python.learn.datasets.base) is deprecated and will be removed in a future version.\n",
            "Instructions for updating:\n",
            "Use scikits.learn.datasets.\n",
            "WARNING:tensorflow:From /usr/local/lib/python3.7/dist-packages/tensorflow/contrib/learn/python/learn/datasets/base.py:112: load_csv_with_header (from tensorflow.contrib.learn.python.learn.datasets.base) is deprecated and will be removed in a future version.\n",
            "Instructions for updating:\n",
            "Use tf.data instead.\n",
            "WARNING:tensorflow:From <ipython-input-1-cd7c8dbb7d2d>:25: infer_real_valued_columns_from_input (from tensorflow.contrib.learn.python.learn.estimators.estimator) is deprecated and will be removed in a future version.\n",
            "Instructions for updating:\n",
            "Please specify feature columns explicitly.\n",
            "WARNING:tensorflow:From /usr/local/lib/python3.7/dist-packages/tensorflow/contrib/learn/python/learn/estimators/estimator.py:143: setup_train_data_feeder (from tensorflow.contrib.learn.python.learn.learn_io.data_feeder) is deprecated and will be removed in a future version.\n",
            "Instructions for updating:\n",
            "Please use tensorflow/transform or tf.data.\n",
            "WARNING:tensorflow:From /usr/local/lib/python3.7/dist-packages/tensorflow/contrib/learn/python/learn/learn_io/data_feeder.py:100: extract_pandas_data (from tensorflow.contrib.learn.python.learn.learn_io.pandas_io) is deprecated and will be removed in a future version.\n",
            "Instructions for updating:\n",
            "Please access pandas data directly.\n",
            "WARNING:tensorflow:From /usr/local/lib/python3.7/dist-packages/tensorflow/contrib/learn/python/learn/learn_io/data_feeder.py:159: DataFeeder.__init__ (from tensorflow.contrib.learn.python.learn.learn_io.data_feeder) is deprecated and will be removed in a future version.\n",
            "Instructions for updating:\n",
            "Please use tensorflow/transform or tf.data.\n",
            "WARNING:tensorflow:From /usr/local/lib/python3.7/dist-packages/tensorflow/contrib/learn/python/learn/learn_io/data_feeder.py:340: check_array (from tensorflow.contrib.learn.python.learn.learn_io.data_feeder) is deprecated and will be removed in a future version.\n",
            "Instructions for updating:\n",
            "Please convert numpy dtypes explicitly.\n",
            "WARNING:tensorflow:float64 is not supported by many models, consider casting to float32.\n",
            "WARNING:tensorflow:From /usr/local/lib/python3.7/dist-packages/tensorflow/contrib/learn/python/learn/estimators/estimator.py:183: infer_real_valued_columns_from_input_fn (from tensorflow.contrib.learn.python.learn.estimators.estimator) is deprecated and will be removed in a future version.\n",
            "Instructions for updating:\n",
            "Please specify feature columns explicitly.\n",
            "WARNING:tensorflow:From /usr/local/lib/python3.7/dist-packages/tensorflow/contrib/learn/python/learn/estimators/dnn.py:378: multi_class_head (from tensorflow.contrib.learn.python.learn.estimators.head) is deprecated and will be removed in a future version.\n",
            "Instructions for updating:\n",
            "Please switch to tf.contrib.estimator.*_head.\n",
            "WARNING:tensorflow:From /usr/local/lib/python3.7/dist-packages/tensorflow/contrib/learn/python/learn/estimators/estimator.py:1179: BaseEstimator.__init__ (from tensorflow.contrib.learn.python.learn.estimators.estimator) is deprecated and will be removed in a future version.\n",
            "Instructions for updating:\n",
            "Please replace uses of any Estimator from tf.contrib.learn with an Estimator from tf.estimator.*\n",
            "WARNING:tensorflow:From /usr/local/lib/python3.7/dist-packages/tensorflow/contrib/learn/python/learn/estimators/estimator.py:427: RunConfig.__init__ (from tensorflow.contrib.learn.python.learn.estimators.run_config) is deprecated and will be removed in a future version.\n",
            "Instructions for updating:\n",
            "When switching to tf.estimator.Estimator, use tf.estimator.RunConfig instead.\n",
            "INFO:tensorflow:Using default config.\n",
            "WARNING:tensorflow:Using temporary folder as model directory: /tmp/tmpyoxwuj7r\n",
            "INFO:tensorflow:Using config: {'_task_type': None, '_task_id': 0, '_cluster_spec': <tensorflow.python.training.server_lib.ClusterSpec object at 0x7f31eed008d0>, '_master': '', '_num_ps_replicas': 0, '_num_worker_replicas': 0, '_environment': 'local', '_is_chief': True, '_evaluation_master': '', '_train_distribute': None, '_eval_distribute': None, '_device_fn': None, '_tf_config': gpu_options {\n",
            "  per_process_gpu_memory_fraction: 1.0\n",
            "}\n",
            ", '_tf_random_seed': None, '_save_summary_steps': 100, '_save_checkpoints_secs': 600, '_log_step_count_steps': 100, '_protocol': None, '_session_config': None, '_save_checkpoints_steps': None, '_keep_checkpoint_max': 5, '_keep_checkpoint_every_n_hours': 10000, '_model_dir': '/tmp/tmpyoxwuj7r'}\n",
            "WARNING:tensorflow:From <ipython-input-1-cd7c8dbb7d2d>:29: calling BaseEstimator.fit (from tensorflow.contrib.learn.python.learn.estimators.estimator) with x is deprecated and will be removed after 2016-12-01.\n",
            "Instructions for updating:\n",
            "Estimator is decoupled from Scikit Learn interface by moving into\n",
            "separate class SKCompat. Arguments x, y and batch_size are only\n",
            "available in the SKCompat class, Estimator will only accept input_fn.\n",
            "Example conversion:\n",
            "  est = Estimator(...) -> est = SKCompat(Estimator(...))\n",
            "WARNING:tensorflow:From <ipython-input-1-cd7c8dbb7d2d>:29: calling BaseEstimator.fit (from tensorflow.contrib.learn.python.learn.estimators.estimator) with y is deprecated and will be removed after 2016-12-01.\n",
            "Instructions for updating:\n",
            "Estimator is decoupled from Scikit Learn interface by moving into\n",
            "separate class SKCompat. Arguments x, y and batch_size are only\n",
            "available in the SKCompat class, Estimator will only accept input_fn.\n",
            "Example conversion:\n",
            "  est = Estimator(...) -> est = SKCompat(Estimator(...))\n",
            "WARNING:tensorflow:From /usr/local/lib/python3.7/dist-packages/tensorflow/contrib/learn/python/learn/estimators/estimator.py:508: SKCompat.__init__ (from tensorflow.contrib.learn.python.learn.estimators.estimator) is deprecated and will be removed in a future version.\n",
            "Instructions for updating:\n",
            "Please switch to the Estimator interface.\n",
            "WARNING:tensorflow:From /usr/local/lib/python3.7/dist-packages/tensorflow/contrib/learn/python/learn/learn_io/data_feeder.py:102: extract_pandas_labels (from tensorflow.contrib.learn.python.learn.learn_io.pandas_io) is deprecated and will be removed in a future version.\n",
            "Instructions for updating:\n",
            "Please access pandas data directly.\n",
            "WARNING:tensorflow:float64 is not supported by many models, consider casting to float32.\n",
            "WARNING:tensorflow:From /usr/local/lib/python3.7/dist-packages/tensorflow/python/framework/op_def_library.py:263: colocate_with (from tensorflow.python.framework.ops) is deprecated and will be removed in a future version.\n",
            "Instructions for updating:\n",
            "Colocations handled automatically by placer.\n",
            "WARNING:tensorflow:From /usr/local/lib/python3.7/dist-packages/tensorflow/contrib/layers/python/layers/feature_column.py:1874: to_float (from tensorflow.python.ops.math_ops) is deprecated and will be removed in a future version.\n",
            "Instructions for updating:\n",
            "Use tf.cast instead.\n",
            "WARNING:tensorflow:From /usr/local/lib/python3.7/dist-packages/tensorflow/contrib/learn/python/learn/estimators/head.py:677: ModelFnOps.__new__ (from tensorflow.contrib.learn.python.learn.estimators.model_fn) is deprecated and will be removed in a future version.\n",
            "Instructions for updating:\n",
            "When switching to tf.estimator.Estimator, use tf.estimator.EstimatorSpec. You can use the `estimator_spec` method to create an equivalent one.\n",
            "INFO:tensorflow:Create CheckpointSaverHook.\n",
            "INFO:tensorflow:Graph was finalized.\n",
            "INFO:tensorflow:Running local_init_op.\n",
            "INFO:tensorflow:Done running local_init_op.\n",
            "INFO:tensorflow:Saving checkpoints for 0 into /tmp/tmpyoxwuj7r/model.ckpt.\n",
            "INFO:tensorflow:loss = 3.6671703, step = 1\n",
            "INFO:tensorflow:global_step/sec: 603.218\n",
            "INFO:tensorflow:loss = 0.19224183, step = 101 (0.168 sec)\n",
            "INFO:tensorflow:Saving checkpoints for 200 into /tmp/tmpyoxwuj7r/model.ckpt.\n",
            "INFO:tensorflow:Loss for final step: 0.0928927.\n",
            "WARNING:tensorflow:From /usr/local/lib/python3.7/dist-packages/tensorflow/python/util/deprecation.py:574: calling DNNClassifier.predict (from tensorflow.contrib.learn.python.learn.estimators.dnn) with outputs=None is deprecated and will be removed after 2017-03-01.\n",
            "Instructions for updating:\n",
            "Please switch to predict_classes, or set `outputs` argument.\n",
            "WARNING:tensorflow:From /usr/local/lib/python3.7/dist-packages/tensorflow/contrib/learn/python/learn/estimators/dnn.py:463: calling BaseEstimator.predict (from tensorflow.contrib.learn.python.learn.estimators.estimator) with x is deprecated and will be removed after 2016-12-01.\n",
            "Instructions for updating:\n",
            "Estimator is decoupled from Scikit Learn interface by moving into\n",
            "separate class SKCompat. Arguments x, y and batch_size are only\n",
            "available in the SKCompat class, Estimator will only accept input_fn.\n",
            "Example conversion:\n",
            "  est = Estimator(...) -> est = SKCompat(Estimator(...))\n",
            "WARNING:tensorflow:float64 is not supported by many models, consider casting to float32.\n",
            "INFO:tensorflow:Graph was finalized.\n",
            "WARNING:tensorflow:From /usr/local/lib/python3.7/dist-packages/tensorflow/python/training/saver.py:1266: checkpoint_exists (from tensorflow.python.training.checkpoint_management) is deprecated and will be removed in a future version.\n",
            "Instructions for updating:\n",
            "Use standard file APIs to check for files with this prefix.\n",
            "INFO:tensorflow:Restoring parameters from /tmp/tmpyoxwuj7r/model.ckpt-200\n",
            "INFO:tensorflow:Running local_init_op.\n",
            "INFO:tensorflow:Done running local_init_op.\n",
            "Prediction:  [1, 0, 2, 1, 1, 0, 1, 2, 1, 1, 2, 0, 0, 0, 0, 1, 2, 1, 1, 2, 0, 2, 0, 2, 2, 2, 2, 2, 0, 0, 0, 0, 1, 0, 0, 2, 1, 0]\n",
            "Target Names: Setosa(0), Versicolor(1), & Virginia(3)\n",
            "Accuracy: 100 %\n",
            "Actual data:  [1 0 2 1 1 0 1 2 1 1 2 0 0 0 0 1 2 1 1 2 0 2 0 2 2 2 2 2 0 0 0 0 1 0 0 2 1\n",
            " 0]\n",
            "Excellent prediction! Good job!\n"
          ]
        }
      ]
    },
    {
      "cell_type": "code",
      "metadata": {
        "id": "q6zIGyYnxYFE"
      },
      "source": [
        "# Demo IPython code...\n",
        "\n",
        "from IPython.display import YouTubeVideo\n",
        "\n",
        "YouTubeVideo('JC82Il2cjqA', width=900, height=600)\n",
        "\n",
        "\"\"\"\n",
        " Just my favourite motivational video...\n",
        " watch it if you are demotivated or tired of doing the job!\n",
        " Happy learning!\n",
        "    - Jeff\n",
        "\"\"\"\n",
        "\n",
        "pass"
      ],
      "execution_count": null,
      "outputs": []
    },
    {
      "cell_type": "code",
      "metadata": {
        "colab": {
          "base_uri": "https://localhost:8080/",
          "height": 238
        },
        "id": "6M5U3tb44u_6",
        "outputId": "29d29fee-54fa-4109-a5bd-ab98babf600e"
      },
      "source": [
        "# Basics of programming are essential! It is very important to learn it! So here we go...\n",
        "\n",
        "import math\n",
        "# The print function:\n",
        "print('Hello world') # This is a string\n",
        "\n",
        "# Swapping var:\n",
        "\n",
        "# Orginal values\n",
        "a = 1\n",
        "b = 2\n",
        "print(\"var a's value: \", a)\n",
        "print(\"var b's value: \", b)\n",
        "\n",
        "# a is b and b is a now\n",
        "a,b = b,a\n",
        "\n",
        "print(\"var a's value now: \", a)\n",
        "print(\"var b's value now: \", b)\n",
        "\n",
        "# BMI Calculator\n",
        "\n",
        "name = 'Jeff'\n",
        "weight_kg = 25\n",
        "height_m = 1.5\n",
        "\n",
        "bmi = math.floor(weight_kg / (height_m**2)) # This estimates the result\n",
        "print('BMI: ', str(bmi))\n",
        "if bmi < 25:\n",
        "   print(name, 'is not overweight. ')\n",
        "elif bmi >= 25:\n",
        "   print(name, ', sorry to say, but you are overweight! No offense. ')\n",
        "\n",
        "# Functions with(out) arguments:\n",
        "\n",
        "def my_funct():\n",
        "    print('Hello from a function')\n",
        "my_funct()\n",
        "\n",
        "def mul_2(x):\n",
        "    return x*2\n",
        "\n",
        "mul_2(5)\n",
        "\n",
        "# We can also asign values in an arg.\n",
        "def mul_3(x=int(input('Enter a number: '))):\n",
        "    print('The value of',str(x),'multiplied by 3', 'is', str(x*3))\n",
        "\n",
        "# Functions can be stored in a var\n",
        "three = mul_3()\n",
        "\n",
        "# 'some_argument' is used to return any value.\n",
        "def some_func(some_argument):\n",
        "    return some_argument\n",
        "\n",
        "y = some_func([1,2,3])\n",
        "\n",
        "\n",
        "# Ds & Alg.\n",
        "\n",
        "home = [49.2, -123.4]\n",
        "store_a = [49.3, -123.4]\n",
        "store_b = [49.3, -123.3]\n",
        "school = [49.3, -123.2]\n",
        "intersection = [49.2, -123.2]\n",
        "\n",
        "h_to_other = [store_a, store_b, intersection]\n",
        "store_a_to_other = [store_b]\n",
        "school_to_other = [store_b]\n",
        "store_b_to_other = [school]\n",
        "intersection_to_other = [school]\n",
        "\n",
        "shortest_path_home = min(h_to_other)\n",
        "longest_path_home = max(h_to_other)\n",
        "print(\"Longest path to home: \", str(longest_path_home))\n",
        "print(\"Shortest path to home: \", str(shortest_path_home))\n",
        "\n"
      ],
      "execution_count": null,
      "outputs": [
        {
          "name": "stdout",
          "output_type": "stream",
          "text": [
            "Hello world\n",
            "var a's value:  1\n",
            "var b's value:  2\n",
            "var a's value now:  2\n",
            "var b's value now:  1\n",
            "BMI:  11\n",
            "Jeff is not overweight. \n",
            "Hello from a function\n",
            "Enter a number: 12\n",
            "The value of 12 multiplied by 3 is 36\n",
            "[1, 2, 3]\n",
            "Longest path to home:  [49.3, -123.3]\n",
            "Shortest path to home:  [49.2, -123.2]\n"
          ]
        }
      ]
    },
    {
      "cell_type": "code",
      "metadata": {
        "colab": {
          "base_uri": "https://localhost:8080/"
        },
        "id": "fuN3aTn54YML",
        "outputId": "4ac7172f-4b2d-4775-cbf3-5a85c794b006"
      },
      "source": [
        "# Basic prog. exercises\n",
        "\n",
        "pass\n",
        "\n",
        "# Classes and Objects\n",
        "\n",
        "pass\n",
        "\n",
        "# Tom the robot\n",
        "class Tom:\n",
        "   color = 'red'\n",
        "   name = 'Tom'\n",
        "   weight = 30\n",
        "   def introduce(name='Jeff'):\n",
        "      str(input('Hi, ' + name + '! ' +  'This is Jerry. Nice to meet you. '))\n",
        "\n",
        "   details = ['Color: ' + color,'Name: ' + name, 'Weight: ' + str(weight)]\n",
        "\n",
        "pass\n",
        "\n",
        "# Jerry the robot\n",
        "class Jerry:\n",
        "   color = 'blue'\n",
        "   name = 'Jerry'\n",
        "   weight = 40\n",
        "   def introduce(name='Jeff'):\n",
        "      str(input('Hi, ' + name + '! ' +  'This is Jerry. Nice to meet you. '))\n",
        "\n",
        "   details = ['Color: ' + color,'Name: ' + name, 'Weight: ' + str(weight)]\n",
        "\n",
        "pass\n",
        "\n",
        "# Loops\n",
        "\n",
        "planets = ['Mercury', 'Venus', 'Earth', 'Mars', 'Jupiter', 'Saturn', 'Uranus', 'Neptune']\n",
        "for planets in planets:\n",
        "    print(planets, end=' ')\n",
        "\n",
        "multiplicands = (2, 2, 2, 3, 3, 5)\n",
        "product = 1\n",
        "for x in multiplicands:\n",
        "    product = product * x\n",
        "\n",
        "pass\n",
        "\n",
        "i = 0\n",
        "while i < 31:\n",
        "    print(i, end=' ')\n",
        "    i += 3\n",
        "\n",
        "pass\n",
        "\n",
        "cubes = [n**3 for n in range(11)]\n",
        "print(cubes, end=' ')\n",
        "\n",
        "# Python program to find the factorial of a number provided by the user.\n",
        "\n",
        "# change the value for a different result\n",
        "num = int(input('Enter a number to compute its factorial: '))\n",
        "\n",
        "# To take input from the user\n",
        "#num = int(input(\"Enter a number: \"))\n",
        "\n",
        "factorial = 1\n",
        "\n",
        "# check if the number is negative, positive or zero\n",
        "if num < 0:\n",
        "   print(\"Sorry, factorial does not exist for negative numbers\")\n",
        "elif num > 99:\n",
        "   print(\"Please enter a number lesser than 99\")\n",
        "else:\n",
        "   for i in range(1,num + 1):\n",
        "       factorial = factorial*i\n",
        "   print(\"The factorial of\",num,\"is\",factorial)\n",
        "\n",
        "request = str(input('Do you want to continue computing factorials? [y/n] '))\n",
        "\n",
        "if request == 'y':\n",
        "   for i in range(1,num + 1):\n",
        "       factorial = factorial*i\n",
        "   print(\"The factorial of\",num,\"is\",factorial)\n",
        "\n",
        "elif request == 'n':\n",
        "   input('Thank you, please enter to exit. ')"
      ],
      "execution_count": null,
      "outputs": [
        {
          "name": "stdout",
          "output_type": "stream",
          "text": [
            "Mercury Venus Earth Mars Jupiter Saturn Uranus Neptune 0 3 6 9 12 15 18 21 24 27 30 [0, 1, 8, 27, 64, 125, 216, 343, 512, 729, 1000] Enter a number to compute its factorial: -1\n",
            "Sorry, factorial does not exist for negative numbers\n"
          ]
        }
      ]
    },
    {
      "cell_type": "code",
      "metadata": {
        "id": "Z5iQ7bM7LHQj"
      },
      "source": [],
      "execution_count": null,
      "outputs": []
    },
    {
      "cell_type": "code",
      "metadata": {
        "id": "g53FWjc6JQTN"
      },
      "source": [
        "from IPython.display import display, Javascript\n",
        "from google.colab.output import eval_js\n",
        "from base64 import b64decode\n",
        "\n",
        "def take_photo(filename='photo.jpg', quality=0.8):\n",
        "  js = Javascript('''\n",
        "    async function takePhoto(quality) {\n",
        "      const div = document.createElement('div');\n",
        "      const capture = document.createElement('button');\n",
        "      capture.textContent = 'Capture';\n",
        "      div.appendChild(capture);\n",
        "\n",
        "      const video = document.createElement('video');\n",
        "      video.style.display = 'block';\n",
        "      const stream = await navigator.mediaDevices.getUserMedia({video: true});\n",
        "\n",
        "      document.body.appendChild(div);\n",
        "      div.appendChild(video);\n",
        "      video.srcObject = stream;\n",
        "      await video.play();\n",
        "\n",
        "      // Resize the output to fit the video element.\n",
        "      google.colab.output.setIframeHeight(document.documentElement.scrollHeight, true);\n",
        "\n",
        "      // Wait for Capture to be clicked.\n",
        "      await new Promise((resolve) => capture.onclick = resolve);\n",
        "\n",
        "      const canvas = document.createElement('canvas');\n",
        "      canvas.width = video.videoWidth;\n",
        "      canvas.height = video.videoHeight;\n",
        "      canvas.getContext('2d').drawImage(video, 0, 0);\n",
        "      stream.getVideoTracks()[0].stop();\n",
        "      div.remove();\n",
        "      return canvas.toDataURL('image/jpeg', quality);\n",
        "    }\n",
        "    ''')\n",
        "  display(js)\n",
        "  data = eval_js('takePhoto({})'.format(quality))\n",
        "  binary = b64decode(data.split(',')[1])\n",
        "  with open(filename, 'wb') as f:\n",
        "    f.write(binary)\n",
        "  return filename"
      ],
      "execution_count": null,
      "outputs": []
    },
    {
      "cell_type": "code",
      "metadata": {
        "colab": {
          "base_uri": "https://localhost:8080/",
          "height": 514
        },
        "id": "QwYvMkQZJQLF",
        "outputId": "74367910-3216-417d-f8cf-91e072c9c158"
      },
      "source": [
        "from IPython.display import Image\n",
        "try:\n",
        "  filename = take_photo()\n",
        "  print('Saved to {}'.format(filename))\n",
        "\n",
        "  # Show the image which was just taken.\n",
        "  display(Image(filename))\n",
        "except Exception as err:\n",
        "  # Errors will be thrown if the user does not have a webcam or if they do not\n",
        "  # grant the page permission to access it.\n",
        "  print(str(err))"
      ],
      "execution_count": null,
      "outputs": [
        {
          "data": {
            "application/javascript": [
              "\n",
              "    async function takePhoto(quality) {\n",
              "      const div = document.createElement('div');\n",
              "      const capture = document.createElement('button');\n",
              "      capture.textContent = 'Capture';\n",
              "      div.appendChild(capture);\n",
              "\n",
              "      const video = document.createElement('video');\n",
              "      video.style.display = 'block';\n",
              "      const stream = await navigator.mediaDevices.getUserMedia({video: true});\n",
              "\n",
              "      document.body.appendChild(div);\n",
              "      div.appendChild(video);\n",
              "      video.srcObject = stream;\n",
              "      await video.play();\n",
              "\n",
              "      // Resize the output to fit the video element.\n",
              "      google.colab.output.setIframeHeight(document.documentElement.scrollHeight, true);\n",
              "\n",
              "      // Wait for Capture to be clicked.\n",
              "      await new Promise((resolve) => capture.onclick = resolve);\n",
              "\n",
              "      const canvas = document.createElement('canvas');\n",
              "      canvas.width = video.videoWidth;\n",
              "      canvas.height = video.videoHeight;\n",
              "      canvas.getContext('2d').drawImage(video, 0, 0);\n",
              "      stream.getVideoTracks()[0].stop();\n",
              "      div.remove();\n",
              "      return canvas.toDataURL('image/jpeg', quality);\n",
              "    }\n",
              "    "
            ],
            "text/plain": [
              "<IPython.core.display.Javascript object>"
            ]
          },
          "metadata": {
            "tags": []
          },
          "output_type": "display_data"
        },
        {
          "name": "stdout",
          "output_type": "stream",
          "text": [
            "Saved to photo.jpg\n"
          ]
        },
        {
          "data": {
            "image/jpeg": "[encoded data removed]",
            "text/plain": [
              "<IPython.core.display.Image object>"
            ]
          },
          "metadata": {
            "tags": []
          },
          "output_type": "display_data"
        }
      ]
    },
    {
      "cell_type": "code",
      "source": [],
      "metadata": {
        "colab": {
          "base_uri": "https://localhost:8080/"
        },
        "id": "3jhVNPC7cGFH",
        "outputId": "f2e7e46c-b8e4-4aa5-b0d0-13c65f4ff744"
      },
      "execution_count": null,
      "outputs": [
        {
          "output_type": "stream",
          "name": "stdout",
          "text": [
            "2\n",
            "10\n",
            "40\n",
            "[40]\n"
          ]
        }
      ]
    },
    {
      "cell_type": "code",
      "metadata": {
        "colab": {
          "base_uri": "https://localhost:8080/"
        },
        "id": "jdDFS288GUHK",
        "outputId": "17dfe932-44be-4a92-a646-4ef4aad201a3"
      },
      "source": [
        "#Packages\n",
        "import pandas as pd\n",
        "from sklearn import tree\n",
        "from matplotlib import pyplot as plt\n",
        "\n",
        "\n",
        "#CSV file\n",
        "report = pd.read_csv('blood-sugar-report.csv')\n",
        "\n",
        "#Assigning features and labels\n",
        "training_data_features = report[\"Morning Blood Sugar\"]\n",
        "training_data_label = report[\"Is it good?\"]\n",
        "\n",
        "#Assigning the classifier\n",
        "clf = tree.DecisionTreeClassifier()\n",
        "\n",
        "#Doing the main thing - predict and check the accuracy...\n",
        "clf.fit([training_data_features], [training_data_label])\n",
        "prediction = clf.predict([training_data_features], [training_data_label])\n",
        "print(prediction)\n",
        "print(training_data_label)\n",
        "\n",
        "print(type)"
      ],
      "execution_count": null,
      "outputs": [
        {
          "output_type": "stream",
          "name": "stdout",
          "text": [
            "[['Yes' 'No' 'No' 'No' 'Yes' 'No' 'No' 'No' 'No' 'No' 'No' 'No' 'No' 'No'\n",
            "  'No' 'No' 'No' 'No' 'No' 'No' 'No' 'No' 'No' 'No' 'No' 'Yes' 'Yes' 'No'\n",
            "  'No' 'No' 'No' 'Yes' 'No' 'Yes' 'No' 'Yes' 'No' 'Yes' 'Yes' 'No' 'No']]\n",
            "0     Yes\n",
            "1      No\n",
            "2      No\n",
            "3      No\n",
            "4     Yes\n",
            "5      No\n",
            "6      No\n",
            "7      No\n",
            "8      No\n",
            "9      No\n",
            "10     No\n",
            "11     No\n",
            "12     No\n",
            "13     No\n",
            "14     No\n",
            "15     No\n",
            "16     No\n",
            "17     No\n",
            "18     No\n",
            "19     No\n",
            "20     No\n",
            "21     No\n",
            "22     No\n",
            "23     No\n",
            "24     No\n",
            "25    Yes\n",
            "26    Yes\n",
            "27     No\n",
            "28     No\n",
            "29     No\n",
            "30     No\n",
            "31    Yes\n",
            "32     No\n",
            "33    Yes\n",
            "34     No\n",
            "35    Yes\n",
            "36     No\n",
            "37    Yes\n",
            "38    Yes\n",
            "39     No\n",
            "40     No\n",
            "Name: Is it good?, dtype: object\n"
          ]
        }
      ]
    },
    {
      "cell_type": "code",
      "source": [
        "import FundamentalAnalysis as fa\n",
        "\n",
        "api_key = \"https://financialmodelingprep.com/api/v3/income-statement/AAPL?period=annual&apikey=4HV0I6YoKDKnD653cAwv4lnEeWwPAXQg\"\n",
        "ticker = 'AAPL'\n",
        "\n",
        "income_statement = fa.income_statement(ticker, api_key, period=\"annual\")\n",
        "print(income_statement.head())"
      ],
      "metadata": {
        "id": "wqZEDt5o9GTl",
        "outputId": "8a31dfae-2e6e-4dd5-9a7b-fbe871717639",
        "colab": {
          "base_uri": "https://localhost:8080/",
          "height": 384
        }
      },
      "execution_count": null,
      "outputs": [
        {
          "output_type": "error",
          "ename": "ModuleNotFoundError",
          "evalue": "No module named 'FundamentalAnalysis'",
          "traceback": [
            "\u001b[0;31m---------------------------------------------------------------------------\u001b[0m",
            "\u001b[0;31mModuleNotFoundError\u001b[0m                       Traceback (most recent call last)",
            "\u001b[0;32m<ipython-input-1-d2deb9aa9270>\u001b[0m in \u001b[0;36m<cell line: 0>\u001b[0;34m()\u001b[0m\n\u001b[0;32m----> 1\u001b[0;31m \u001b[0;32mimport\u001b[0m \u001b[0mFundamentalAnalysis\u001b[0m \u001b[0;32mas\u001b[0m \u001b[0mfa\u001b[0m\u001b[0;34m\u001b[0m\u001b[0;34m\u001b[0m\u001b[0m\n\u001b[0m\u001b[1;32m      2\u001b[0m \u001b[0;34m\u001b[0m\u001b[0m\n\u001b[1;32m      3\u001b[0m \u001b[0mapi_key\u001b[0m \u001b[0;34m=\u001b[0m \u001b[0;34m\"https://financialmodelingprep.com/api/v3/income-statement/AAPL?period=annual&apikey=4HV0I6YoKDKnD653cAwv4lnEeWwPAXQg\"\u001b[0m\u001b[0;34m\u001b[0m\u001b[0;34m\u001b[0m\u001b[0m\n\u001b[1;32m      4\u001b[0m \u001b[0mticker\u001b[0m \u001b[0;34m=\u001b[0m \u001b[0;34m'AAPL'\u001b[0m\u001b[0;34m\u001b[0m\u001b[0;34m\u001b[0m\u001b[0m\n\u001b[1;32m      5\u001b[0m \u001b[0;34m\u001b[0m\u001b[0m\n",
            "\u001b[0;31mModuleNotFoundError\u001b[0m: No module named 'FundamentalAnalysis'",
            "",
            "\u001b[0;31m---------------------------------------------------------------------------\u001b[0;32m\nNOTE: If your import is failing due to a missing package, you can\nmanually install dependencies using either !pip or !apt.\n\nTo view examples of installing some common dependencies, click the\n\"Open Examples\" button below.\n\u001b[0;31m---------------------------------------------------------------------------\u001b[0m\n"
          ],
          "errorDetails": {
            "actions": [
              {
                "action": "open_url",
                "actionText": "Open Examples",
                "url": "/notebooks/snippets/importing_libraries.ipynb"
              }
            ]
          }
        }
      ]
    }
  ]
}